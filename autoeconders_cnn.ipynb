{
  "nbformat": 4,
  "nbformat_minor": 0,
  "metadata": {
    "colab": {
      "name": "autoeconders",
      "provenance": [],
      "collapsed_sections": [],
      "authorship_tag": "ABX9TyNX43mxCKZ8Y+h3YAjAvKnB",
      "include_colab_link": true
    },
    "kernelspec": {
      "name": "python3",
      "display_name": "Python 3"
    }
  },
  "cells": [
    {
      "cell_type": "markdown",
      "metadata": {
        "id": "view-in-github",
        "colab_type": "text"
      },
      "source": [
        "<a href=\"https://colab.research.google.com/github/abhijithmahadev/autoencoders/blob/master/autoeconders_cnn.ipynb\" target=\"_parent\"><img src=\"https://colab.research.google.com/assets/colab-badge.svg\" alt=\"Open In Colab\"/></a>"
      ]
    },
    {
      "cell_type": "code",
      "metadata": {
        "id": "MiPLGNzKxWJT",
        "colab_type": "code",
        "colab": {}
      },
      "source": [
        "# Building autoencoder using convolutional neural nets\n",
        "# IMporting the necessary libraries\n",
        "from keras.layers import Conv2D, MaxPooling2D, UpSampling2D, LeakyReLU, Reshape\n",
        "from keras.models import Model\n",
        "from keras.datasets import mnist\n",
        "import numpy as np\n",
        "import matplotlib.pyplot as plt"
      ],
      "execution_count": 43,
      "outputs": []
    },
    {
      "cell_type": "code",
      "metadata": {
        "id": "jB7BtorrWtDF",
        "colab_type": "code",
        "colab": {}
      },
      "source": [
        "# Building the model\n",
        "# Building the encoder\n",
        "input_layer = Input(shape = (28,28,1)) #MNIST contains 28 x 28 images with one channel\n",
        "\n",
        "convolution_layer_1 = Conv2D(32, (3,3), strides = (1,1), padding = 'same')(input_layer)\n",
        "activation_layer_1 = LeakyReLU()(convolution_layer_1)\n",
        "pooling_layer_1 = MaxPooling2D((2,2), padding = 'same')(activation_layer_1)\n",
        "\n",
        "convolution_layer_2 = Conv2D(16, (3,3), strides = (1,1), padding = 'same')(pooling_layer_1)\n",
        "activation_layer_2 = LeakyReLU()(convolution_layer_2)\n",
        "pooling_layer_2 = MaxPooling2D((2,2), padding = 'same')(activation_layer_2)\n",
        "\n",
        "convolution_layer_3 = Conv2D(8, (3,3), strides = (1,1), padding = 'same')(pooling_layer_2)\n",
        "activation_layer_3 = LeakyReLU()(convolution_layer_3)\n",
        "pooling_layer_3 = MaxPooling2D((2,2), padding = 'same')(activation_layer_3) # Encoded layer\n",
        "\n",
        "# Building the decoder (Using Upsampling layers)\n",
        "convolution_layer_4 = Conv2D(8, (3,3), strides = (1,1), padding = 'same')(pooling_layer_3)\n",
        "activation_layer_4 = LeakyReLU()(convolution_layer_4)\n",
        "pooling_layer_4 = UpSampling2D((2,2))(activation_layer_4)\n",
        "\n",
        "convolution_layer_5 = Conv2D(16, (3,3), strides = (1,1), padding = 'same')(pooling_layer_4)\n",
        "activation_layer_5 = LeakyReLU()(convolution_layer_5)\n",
        "pooling_layer_5 = UpSampling2D((2,2))(activation_layer_5)\n",
        "\n",
        "convolution_layer_6 = Conv2D(32, (3,3), strides = (1,1))(pooling_layer_5)\n",
        "activation_layer_6 = LeakyReLU()(convolution_layer_6)\n",
        "pooling_layer_6 = UpSampling2D((2,2))(activation_layer_6)\n",
        "\n",
        "output_layer = Conv2D(1,(3,3), activation = 'sigmoid', padding = 'same')(pooling_layer_6)\n",
        "output_reshaped = Reshape((28,28,1))(output_layer)\n",
        "\n",
        "autoencoder = Model(input_layer, output_reshaped)"
      ],
      "execution_count": 40,
      "outputs": []
    },
    {
      "cell_type": "code",
      "metadata": {
        "id": "hZRTy2H5g1hf",
        "colab_type": "code",
        "colab": {}
      },
      "source": [
        "# Compiling the model\n",
        "autoencoder.compile(optimizer = 'adam', loss = 'binary_crossentropy')"
      ],
      "execution_count": 42,
      "outputs": []
    },
    {
      "cell_type": "code",
      "metadata": {
        "id": "qxysjN1DiPVF",
        "colab_type": "code",
        "colab": {}
      },
      "source": [
        "# Data preprocessing\n",
        "(x_train, _),(x_test, _) = mnist.load_data()\n",
        "\n",
        "x_train = x_train.astype('float32')/ 255\n",
        "x_test = x_test.astype('float32')/ 255\n",
        "\n",
        "x_train = np.reshape(x_train,(len(x_train), 28, 28, 1))\n",
        "x_test = np.reshape(x_test,(len(x_test), 28, 28, 1))"
      ],
      "execution_count": 51,
      "outputs": []
    },
    {
      "cell_type": "code",
      "metadata": {
        "id": "nCSq9Xp6irv7",
        "colab_type": "code",
        "colab": {}
      },
      "source": [
        "# Training the model\n",
        "autoencoder.fit(x_train, x_train, epochs = 50, batch_size = 32)"
      ],
      "execution_count": null,
      "outputs": []
    },
    {
      "cell_type": "code",
      "metadata": {
        "id": "pZI3WIZ-uy4h",
        "colab_type": "code",
        "colab": {
          "base_uri": "https://localhost:8080/",
          "height": 248
        },
        "outputId": "0a2a31d8-a616-48cf-824e-b0325fd478dd"
      },
      "source": [
        "decoded_images = autoencoder.predict(x_test)\n",
        "n = 10\n",
        "plt.figure(figsize=(20, 4))\n",
        "for i in range(n):\n",
        "    # display original\n",
        "    ax = plt.subplot(2, n, i+1)\n",
        "    plt.imshow(x_test[i].reshape(28, 28))\n",
        "    plt.gray()\n",
        "    ax.get_xaxis().set_visible(False)\n",
        "    ax.get_yaxis().set_visible(False)\n",
        "\n",
        "    # display reconstruction\n",
        "    ax = plt.subplot(2, n, i + n + 1)\n",
        "    plt.imshow(decoded_images[i].reshape(28, 28))\n",
        "    plt.gray()\n",
        "    ax.get_xaxis().set_visible(False)\n",
        "    ax.get_yaxis().set_visible(False)\n",
        "plt.show()"
      ],
      "execution_count": 63,
      "outputs": [
        {
          "output_type": "display_data",
          "data": {
            "image/png": "[encoded data removed]",
            "text/plain": [
              "<Figure size 1440x288 with 20 Axes>"
            ]
          },
          "metadata": {
            "tags": [],
            "needs_background": "light"
          }
        }
      ]
    },
    {
      "cell_type": "code",
      "metadata": {
        "id": "Vg_3kdhOLEgz",
        "colab_type": "code",
        "colab": {}
      },
      "source": [
        ""
      ],
      "execution_count": null,
      "outputs": []
    }
  ]
}