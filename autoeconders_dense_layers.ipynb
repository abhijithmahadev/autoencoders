{
  "nbformat": 4,
  "nbformat_minor": 0,
  "metadata": {
    "colab": {
      "name": "autoeconders",
      "provenance": [],
      "authorship_tag": "ABX9TyP3Nrq2fJwdeEC4HPxCQGHP",
      "include_colab_link": true
    },
    "kernelspec": {
      "name": "python3",
      "display_name": "Python 3"
    }
  },
  "cells": [
    {
      "cell_type": "markdown",
      "metadata": {
        "id": "view-in-github",
        "colab_type": "text"
      },
      "source": [
        "<a href=\"https://colab.research.google.com/github/abhijithmahadev/autoencoders/blob/master/autoeconders_dense_layers.ipynb\" target=\"_parent\"><img src=\"https://colab.research.google.com/assets/colab-badge.svg\" alt=\"Open In Colab\"/></a>"
      ]
    },
    {
      "cell_type": "code",
      "metadata": {
        "id": "xFVC6mQ4CP0f",
        "colab_type": "code",
        "colab": {}
      },
      "source": [
        "# Building an autoencoder using a dense neural network\n",
        "# Importing the dependancies\n",
        "from keras.layers import Dense, Input, LeakyReLU, Reshape\n",
        "from keras.models import Model\n",
        "from keras.datasets import mnist\n",
        "import numpy as np\n",
        "import matplotlib.pyplot as plt"
      ],
      "execution_count": null,
      "outputs": []
    },
    {
      "cell_type": "code",
      "metadata": {
        "id": "IhGELju0Cob6",
        "colab_type": "code",
        "colab": {}
      },
      "source": [
        "# Building the model\n",
        "latent_vector_dimension = 32\n",
        "# Building the encoder\n",
        "input_layer = Input(shape = (784,))\n",
        "dense_layer_1 = Dense(512)(input_layer)\n",
        "activation_layer_1 = LeakyReLU()(dense_layer_1)\n",
        "\n",
        "dense_layer_2 = Dense(256)(activation_layer_1)\n",
        "activation_layer_2 = LeakyReLU()(dense_layer_2)\n",
        "\n",
        "dense_layer_3= Dense(128)(activation_layer_2)\n",
        "activation_layer_3 = LeakyReLU()(dense_layer_3)\n",
        "\n",
        "dense_layer_4 = Dense(64)(activation_layer_3)\n",
        "activation_layer_4 = LeakyReLU()(dense_layer_4)\n",
        "\n",
        "dense_layer_5 = Dense(32)(activation_layer_4) \n",
        "activation_layer_5 = LeakyReLU()(dense_layer_5) # Encoding layer\n",
        "\n",
        "# Building the decoder\n",
        "dense_layer_6 = Dense(64)(activation_layer_5) \n",
        "activation_layer_6 = LeakyReLU()(dense_layer_6)\n",
        "\n",
        "dense_layer_7 = Dense(128)(activation_layer_6)\n",
        "activation_layer_7 = LeakyReLU()(dense_layer_7)\n",
        "\n",
        "dense_layer_8 = Dense(256)(activation_layer_7)\n",
        "activation_layer_8 = LeakyReLU()(dense_layer_8)\n",
        "\n",
        "dense_layer_9 = Dense(512)(activation_layer_8)\n",
        "activation_layer_9 = LeakyReLU()(dense_layer_9)\n",
        "\n",
        "dense_layer_10 = Dense(784, activation = 'sigmoid')(activation_layer_9)\n",
        "#output_layer = Reshape((28,28))(dense_layer_9)"
      ],
      "execution_count": null,
      "outputs": []
    },
    {
      "cell_type": "code",
      "metadata": {
        "id": "WLPbUhF5FfON",
        "colab_type": "code",
        "colab": {}
      },
      "source": [
        "# Compiling the model\n",
        "autoencoder = Model(input_layer, dense_layer_10)\n",
        "autoencoder.compile(optimizer = 'adam', loss = 'binary_crossentropy', metrics = \"accuracy\")"
      ],
      "execution_count": null,
      "outputs": []
    },
    {
      "cell_type": "code",
      "metadata": {
        "id": "7G9n6tT2NCzV",
        "colab_type": "code",
        "colab": {}
      },
      "source": [
        "# Preprocessing the data\n",
        "(x_train,_),(x_test,_) = mnist.load_data()\n",
        "x_train = x_train.astype('float32') / 255\n",
        "x_test = x_test.astype('float32') / 255\n",
        "x_train = np.reshape(x_train,(len(x_train),784) )\n",
        "x_test = np.reshape(x_test,(len(x_test),784) )"
      ],
      "execution_count": null,
      "outputs": []
    },
    {
      "cell_type": "code",
      "metadata": {
        "id": "YjQ5_znaPyZk",
        "colab_type": "code",
        "colab": {}
      },
      "source": [
        "# Training the model\n",
        "autoencoder.fit(x_train, x_train, epochs = 50, batch_size = 16)"
      ],
      "execution_count": null,
      "outputs": []
    },
    {
      "cell_type": "code",
      "metadata": {
        "id": "bEyV7MCO46mn",
        "colab_type": "code",
        "colab": {}
      },
      "source": [
        "# Making predictions\n",
        "decoded_imgs = autoencoder.predict(x_test)"
      ],
      "execution_count": null,
      "outputs": []
    },
    {
      "cell_type": "code",
      "metadata": {
        "id": "G0p4S6Uprpvu",
        "colab_type": "code",
        "colab": {}
      },
      "source": [
        "# PLotting the output\n",
        "num_of_images = 10\n",
        "plt.figure(figsize = (20,4))\n",
        "for i in range(n):\n",
        "  #display the original picture\n",
        "  plot = plt.subplot(2, n, i + 1)\n",
        "  plt.imshow(x_test[i].reshape((28,28)))\n",
        "  plot.get_xaxis().set_visible(False) # Hide x axis\n",
        "  plot.get_yaxis().set_visible(False) # Hide y axis\n",
        "\n",
        "  # display the predicted images\n",
        "  plot = plt.subplot(2, n, i + n +1)\n",
        "  plt.imshow(decoded_imgs[i].reshape((28,28)))\n",
        "  plot.get_xaxis().set_visible(False) # Hide x axis\n",
        "  plot.get_yaxis().set_visible(False) # Hide y axis\n",
        "plt.show()"
      ],
      "execution_count": null,
      "outputs": []
    },
    {
      "cell_type": "code",
      "metadata": {
        "id": "MiPLGNzKxWJT",
        "colab_type": "code",
        "colab": {}
      },
      "source": [
        ""
      ],
      "execution_count": null,
      "outputs": []
    }
  ]
}